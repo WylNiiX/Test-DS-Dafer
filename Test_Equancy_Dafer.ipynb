{
 "cells": [
  {
   "cell_type": "code",
   "execution_count": 857,
   "id": "7f3d4327",
   "metadata": {},
   "outputs": [],
   "source": [
    "import pandas as pd\n",
    "import numpy as np\n",
    "import matplotlib.pyplot as plt\n",
    "import seaborn as sns"
   ]
  },
  {
   "cell_type": "code",
   "execution_count": 858,
   "id": "c374c81f",
   "metadata": {},
   "outputs": [
    {
     "data": {
      "text/html": [
       "<div>\n",
       "<style scoped>\n",
       "    .dataframe tbody tr th:only-of-type {\n",
       "        vertical-align: middle;\n",
       "    }\n",
       "\n",
       "    .dataframe tbody tr th {\n",
       "        vertical-align: top;\n",
       "    }\n",
       "\n",
       "    .dataframe thead th {\n",
       "        text-align: right;\n",
       "    }\n",
       "</style>\n",
       "<table border=\"1\" class=\"dataframe\">\n",
       "  <thead>\n",
       "    <tr style=\"text-align: right;\">\n",
       "      <th></th>\n",
       "      <th>Entreprise</th>\n",
       "      <th>Metier</th>\n",
       "      <th>Technologies</th>\n",
       "      <th>Diplome</th>\n",
       "      <th>Experience</th>\n",
       "      <th>Ville</th>\n",
       "    </tr>\n",
       "  </thead>\n",
       "  <tbody>\n",
       "    <tr>\n",
       "      <th>0</th>\n",
       "      <td>Sanofi</td>\n",
       "      <td>Data scientist</td>\n",
       "      <td>Matlab/Python/Pyspark/Scikit-learn/Tensorflow</td>\n",
       "      <td>Master</td>\n",
       "      <td>1</td>\n",
       "      <td>Paris</td>\n",
       "    </tr>\n",
       "    <tr>\n",
       "      <th>1</th>\n",
       "      <td>Massachusetts General Hospital(MGH)</td>\n",
       "      <td>Data architecte</td>\n",
       "      <td>Python/Java/Scala/MongoDB</td>\n",
       "      <td>Master</td>\n",
       "      <td>3</td>\n",
       "      <td>Marseille</td>\n",
       "    </tr>\n",
       "    <tr>\n",
       "      <th>2</th>\n",
       "      <td>Delve</td>\n",
       "      <td>Lead data scientist</td>\n",
       "      <td>SPSS/SQL/Teradata/R/Python/Tensorflow/scikit-l...</td>\n",
       "      <td>Master</td>\n",
       "      <td>3</td>\n",
       "      <td>Nantes</td>\n",
       "    </tr>\n",
       "    <tr>\n",
       "      <th>3</th>\n",
       "      <td>Ann &amp; Robert H. Lurie Children’s Hospital of C...</td>\n",
       "      <td>Data scientist</td>\n",
       "      <td>C/C++/Java/Python</td>\n",
       "      <td>Master</td>\n",
       "      <td>1,5</td>\n",
       "      <td>Marseille</td>\n",
       "    </tr>\n",
       "    <tr>\n",
       "      <th>4</th>\n",
       "      <td>Arm</td>\n",
       "      <td>Data scientist</td>\n",
       "      <td>Matlab/Python/C++/numpy/Tensorflow/scikit-learn</td>\n",
       "      <td>Phd</td>\n",
       "      <td>NaN</td>\n",
       "      <td>Bordeaux</td>\n",
       "    </tr>\n",
       "  </tbody>\n",
       "</table>\n",
       "</div>"
      ],
      "text/plain": [
       "                                          Entreprise               Metier  \\\n",
       "0                                             Sanofi       Data scientist   \n",
       "1                Massachusetts General Hospital(MGH)      Data architecte   \n",
       "2                                              Delve  Lead data scientist   \n",
       "3  Ann & Robert H. Lurie Children’s Hospital of C...       Data scientist   \n",
       "4                                                Arm       Data scientist   \n",
       "\n",
       "                                        Technologies Diplome Experience  \\\n",
       "0      Matlab/Python/Pyspark/Scikit-learn/Tensorflow  Master          1   \n",
       "1                          Python/Java/Scala/MongoDB  Master          3   \n",
       "2  SPSS/SQL/Teradata/R/Python/Tensorflow/scikit-l...  Master          3   \n",
       "3                                  C/C++/Java/Python  Master        1,5   \n",
       "4    Matlab/Python/C++/numpy/Tensorflow/scikit-learn     Phd        NaN   \n",
       "\n",
       "       Ville  \n",
       "0      Paris  \n",
       "1  Marseille  \n",
       "2     Nantes  \n",
       "3  Marseille  \n",
       "4   Bordeaux  "
      ]
     },
     "execution_count": 858,
     "metadata": {},
     "output_type": "execute_result"
    }
   ],
   "source": [
    "df = pd.read_csv(\"data.csv\")\n",
    "df.head()"
   ]
  },
  {
   "cell_type": "code",
   "execution_count": 859,
   "id": "925c1c9b",
   "metadata": {},
   "outputs": [
    {
     "name": "stdout",
     "output_type": "stream",
     "text": [
      "<class 'pandas.core.frame.DataFrame'>\n",
      "RangeIndex: 9582 entries, 0 to 9581\n",
      "Data columns (total 6 columns):\n",
      " #   Column        Non-Null Count  Dtype \n",
      "---  ------        --------------  ----- \n",
      " 0   Entreprise    9565 non-null   object\n",
      " 1   Metier        9563 non-null   object\n",
      " 2   Technologies  9582 non-null   object\n",
      " 3   Diplome       9582 non-null   object\n",
      " 4   Experience    9488 non-null   object\n",
      " 5   Ville         9582 non-null   object\n",
      "dtypes: object(6)\n",
      "memory usage: 449.3+ KB\n"
     ]
    }
   ],
   "source": [
    "df.info()"
   ]
  },
  {
   "cell_type": "code",
   "execution_count": 860,
   "id": "b1cc8458",
   "metadata": {},
   "outputs": [
    {
     "data": {
      "text/html": [
       "<div>\n",
       "<style scoped>\n",
       "    .dataframe tbody tr th:only-of-type {\n",
       "        vertical-align: middle;\n",
       "    }\n",
       "\n",
       "    .dataframe tbody tr th {\n",
       "        vertical-align: top;\n",
       "    }\n",
       "\n",
       "    .dataframe thead th {\n",
       "        text-align: right;\n",
       "    }\n",
       "</style>\n",
       "<table border=\"1\" class=\"dataframe\">\n",
       "  <thead>\n",
       "    <tr style=\"text-align: right;\">\n",
       "      <th></th>\n",
       "      <th>Entreprise</th>\n",
       "      <th>Metier</th>\n",
       "      <th>Technologies</th>\n",
       "      <th>Diplome</th>\n",
       "      <th>Experience</th>\n",
       "      <th>Ville</th>\n",
       "    </tr>\n",
       "  </thead>\n",
       "  <tbody>\n",
       "    <tr>\n",
       "      <th>count</th>\n",
       "      <td>9565</td>\n",
       "      <td>9563</td>\n",
       "      <td>9582</td>\n",
       "      <td>9582</td>\n",
       "      <td>9488</td>\n",
       "      <td>9582</td>\n",
       "    </tr>\n",
       "    <tr>\n",
       "      <th>unique</th>\n",
       "      <td>1382</td>\n",
       "      <td>4</td>\n",
       "      <td>57</td>\n",
       "      <td>4</td>\n",
       "      <td>21</td>\n",
       "      <td>14</td>\n",
       "    </tr>\n",
       "    <tr>\n",
       "      <th>top</th>\n",
       "      <td>Ball Aerospace</td>\n",
       "      <td>Data scientist</td>\n",
       "      <td>SQL/R/Python//Big data</td>\n",
       "      <td>Master</td>\n",
       "      <td>1,5</td>\n",
       "      <td>Paris</td>\n",
       "    </tr>\n",
       "    <tr>\n",
       "      <th>freq</th>\n",
       "      <td>748</td>\n",
       "      <td>3865</td>\n",
       "      <td>539</td>\n",
       "      <td>4971</td>\n",
       "      <td>1023</td>\n",
       "      <td>2015</td>\n",
       "    </tr>\n",
       "  </tbody>\n",
       "</table>\n",
       "</div>"
      ],
      "text/plain": [
       "            Entreprise          Metier            Technologies Diplome  \\\n",
       "count             9565            9563                    9582    9582   \n",
       "unique            1382               4                      57       4   \n",
       "top     Ball Aerospace  Data scientist  SQL/R/Python//Big data  Master   \n",
       "freq               748            3865                     539    4971   \n",
       "\n",
       "       Experience  Ville  \n",
       "count        9488   9582  \n",
       "unique         21     14  \n",
       "top           1,5  Paris  \n",
       "freq         1023   2015  "
      ]
     },
     "execution_count": 860,
     "metadata": {},
     "output_type": "execute_result"
    }
   ],
   "source": [
    "df.describe()"
   ]
  },
  {
   "cell_type": "code",
   "execution_count": 861,
   "id": "a17a328f",
   "metadata": {},
   "outputs": [
    {
     "data": {
      "text/plain": [
       "9582"
      ]
     },
     "execution_count": 861,
     "metadata": {},
     "output_type": "execute_result"
    }
   ],
   "source": [
    "# nombre d'exemples\n",
    "df.shape[0]"
   ]
  },
  {
   "cell_type": "code",
   "execution_count": 862,
   "id": "49cff7fd",
   "metadata": {},
   "outputs": [
    {
     "data": {
      "text/plain": [
       "Entreprise      17\n",
       "Metier          19\n",
       "Technologies     0\n",
       "Diplome          0\n",
       "Experience      94\n",
       "Ville            0\n",
       "dtype: int64"
      ]
     },
     "execution_count": 862,
     "metadata": {},
     "output_type": "execute_result"
    }
   ],
   "source": [
    "# valeurs manquantes\n",
    "df.isnull().sum()"
   ]
  },
  {
   "cell_type": "code",
   "execution_count": 863,
   "id": "c4e501fa",
   "metadata": {},
   "outputs": [
    {
     "data": {
      "text/plain": [
       "array(['Data scientist', 'Data architecte', 'Lead data scientist',\n",
       "       'Data engineer', nan], dtype=object)"
      ]
     },
     "execution_count": 863,
     "metadata": {},
     "output_type": "execute_result"
    }
   ],
   "source": [
    "df[\"Metier\"].unique()"
   ]
  },
  {
   "cell_type": "markdown",
   "id": "6e461c26",
   "metadata": {},
   "source": [
    "Les colonnes Entreprise, Metier et Experience possèdent des valeurs nulles. On va essayer de résoudre ce problème en commençant par la colonne Experience."
   ]
  },
  {
   "cell_type": "code",
   "execution_count": 864,
   "id": "99488e79",
   "metadata": {},
   "outputs": [],
   "source": [
    "# Experience de String a Float pour pouvoir calculer la mediane et la moyenne\n",
    "df['Experience'] = df['Experience'].str.replace(',','.')\n",
    "df[\"Experience\"] = df[\"Experience\"].astype(float)"
   ]
  },
  {
   "cell_type": "code",
   "execution_count": 865,
   "id": "f7dd8243",
   "metadata": {},
   "outputs": [
    {
     "name": "stdout",
     "output_type": "stream",
     "text": [
      "2.8141863406408096\n",
      "2.0\n"
     ]
    }
   ],
   "source": [
    "med = df[\"Experience\"].median()\n",
    "moy = df[\"Experience\"].mean()\n",
    "print(moy)\n",
    "print(med)"
   ]
  },
  {
   "cell_type": "code",
   "execution_count": 866,
   "id": "6e1fc0d3",
   "metadata": {},
   "outputs": [
    {
     "data": {
      "text/html": [
       "<div>\n",
       "<style scoped>\n",
       "    .dataframe tbody tr th:only-of-type {\n",
       "        vertical-align: middle;\n",
       "    }\n",
       "\n",
       "    .dataframe tbody tr th {\n",
       "        vertical-align: top;\n",
       "    }\n",
       "\n",
       "    .dataframe thead th {\n",
       "        text-align: right;\n",
       "    }\n",
       "</style>\n",
       "<table border=\"1\" class=\"dataframe\">\n",
       "  <thead>\n",
       "    <tr style=\"text-align: right;\">\n",
       "      <th></th>\n",
       "      <th>Entreprise</th>\n",
       "      <th>Metier</th>\n",
       "      <th>Technologies</th>\n",
       "      <th>Diplome</th>\n",
       "      <th>Experience</th>\n",
       "      <th>Ville</th>\n",
       "    </tr>\n",
       "  </thead>\n",
       "  <tbody>\n",
       "    <tr>\n",
       "      <th>0</th>\n",
       "      <td>Sanofi</td>\n",
       "      <td>Data scientist</td>\n",
       "      <td>Matlab/Python/Pyspark/Scikit-learn/Tensorflow</td>\n",
       "      <td>Master</td>\n",
       "      <td>1.0</td>\n",
       "      <td>Paris</td>\n",
       "    </tr>\n",
       "    <tr>\n",
       "      <th>1</th>\n",
       "      <td>Massachusetts General Hospital(MGH)</td>\n",
       "      <td>Data architecte</td>\n",
       "      <td>Python/Java/Scala/MongoDB</td>\n",
       "      <td>Master</td>\n",
       "      <td>3.0</td>\n",
       "      <td>Marseille</td>\n",
       "    </tr>\n",
       "    <tr>\n",
       "      <th>2</th>\n",
       "      <td>Delve</td>\n",
       "      <td>Lead data scientist</td>\n",
       "      <td>SPSS/SQL/Teradata/R/Python/Tensorflow/scikit-l...</td>\n",
       "      <td>Master</td>\n",
       "      <td>3.0</td>\n",
       "      <td>Nantes</td>\n",
       "    </tr>\n",
       "    <tr>\n",
       "      <th>3</th>\n",
       "      <td>Ann &amp; Robert H. Lurie Children’s Hospital of C...</td>\n",
       "      <td>Data scientist</td>\n",
       "      <td>C/C++/Java/Python</td>\n",
       "      <td>Master</td>\n",
       "      <td>1.5</td>\n",
       "      <td>Marseille</td>\n",
       "    </tr>\n",
       "    <tr>\n",
       "      <th>4</th>\n",
       "      <td>Arm</td>\n",
       "      <td>Data scientist</td>\n",
       "      <td>Matlab/Python/C++/numpy/Tensorflow/scikit-learn</td>\n",
       "      <td>Phd</td>\n",
       "      <td>2.0</td>\n",
       "      <td>Bordeaux</td>\n",
       "    </tr>\n",
       "  </tbody>\n",
       "</table>\n",
       "</div>"
      ],
      "text/plain": [
       "                                          Entreprise               Metier  \\\n",
       "0                                             Sanofi       Data scientist   \n",
       "1                Massachusetts General Hospital(MGH)      Data architecte   \n",
       "2                                              Delve  Lead data scientist   \n",
       "3  Ann & Robert H. Lurie Children’s Hospital of C...       Data scientist   \n",
       "4                                                Arm       Data scientist   \n",
       "\n",
       "                                        Technologies Diplome  Experience  \\\n",
       "0      Matlab/Python/Pyspark/Scikit-learn/Tensorflow  Master         1.0   \n",
       "1                          Python/Java/Scala/MongoDB  Master         3.0   \n",
       "2  SPSS/SQL/Teradata/R/Python/Tensorflow/scikit-l...  Master         3.0   \n",
       "3                                  C/C++/Java/Python  Master         1.5   \n",
       "4    Matlab/Python/C++/numpy/Tensorflow/scikit-learn     Phd         2.0   \n",
       "\n",
       "       Ville  \n",
       "0      Paris  \n",
       "1  Marseille  \n",
       "2     Nantes  \n",
       "3  Marseille  \n",
       "4   Bordeaux  "
      ]
     },
     "execution_count": 866,
     "metadata": {},
     "output_type": "execute_result"
    }
   ],
   "source": [
    "df.loc[(df['Metier'] == \"Data scientist\") & (df['Experience'].isnull()), \"Experience\"] = med\n",
    "df.loc[(df['Metier'] == \"Data engineer\") & (df['Experience'].isnull()), \"Experience\"] = moy\n",
    "df.loc[(df['Metier'] == \"Lead data scientist\") & (df['Experience'].isnull()), \"Experience\"] = med\n",
    "df.loc[(df['Metier'] == \"Data architecte\") & (df['Experience'].isnull()), \"Experience\"] = med\n",
    "df.head()"
   ]
  },
  {
   "cell_type": "code",
   "execution_count": 867,
   "id": "eae70dd9",
   "metadata": {},
   "outputs": [
    {
     "data": {
      "text/plain": [
       "Entreprise      17\n",
       "Metier          19\n",
       "Technologies     0\n",
       "Diplome          0\n",
       "Experience       0\n",
       "Ville            0\n",
       "dtype: int64"
      ]
     },
     "execution_count": 867,
     "metadata": {},
     "output_type": "execute_result"
    }
   ],
   "source": [
    "# valeurs manquantes\n",
    "df.isnull().sum()"
   ]
  },
  {
   "cell_type": "markdown",
   "id": "d889fb0b",
   "metadata": {},
   "source": [
    "On elimine les lignes contenant des valeurs manquantes aux colonnes Entreprise et Metier."
   ]
  },
  {
   "cell_type": "code",
   "execution_count": 868,
   "id": "c9b9915b",
   "metadata": {},
   "outputs": [],
   "source": [
    "# Supprimer les valeurs manquantes d'Entreprise et Metier\n",
    "df = df.dropna()"
   ]
  },
  {
   "cell_type": "code",
   "execution_count": 869,
   "id": "1b27adad",
   "metadata": {},
   "outputs": [
    {
     "data": {
      "text/plain": [
       "Entreprise      0\n",
       "Metier          0\n",
       "Technologies    0\n",
       "Diplome         0\n",
       "Experience      0\n",
       "Ville           0\n",
       "dtype: int64"
      ]
     },
     "execution_count": 869,
     "metadata": {},
     "output_type": "execute_result"
    }
   ],
   "source": [
    "# valeurs manquantes\n",
    "df.isnull().sum()"
   ]
  },
  {
   "cell_type": "code",
   "execution_count": 870,
   "id": "502ffbbe",
   "metadata": {},
   "outputs": [
    {
     "name": "stdout",
     "output_type": "stream",
     "text": [
      "2.241839378238342\n",
      "3.928513071895425\n",
      "2.984756178750669\n"
     ]
    }
   ],
   "source": [
    "moy_ds = df.loc[df[\"Metier\"]==\"Data scientist\",[\"Experience\"]].mean()[0]\n",
    "moy_lds = df.loc[df[\"Metier\"]==\"Lead data scientist\",[\"Experience\"]].mean()[0]\n",
    "moy_de = df.loc[df[\"Metier\"]==\"Data engineer\",[\"Experience\"]].mean()[0]\n",
    "\n",
    "print(moy_ds)\n",
    "print(moy_lds)\n",
    "print(moy_de)"
   ]
  },
  {
   "cell_type": "code",
   "execution_count": 871,
   "id": "88fab066",
   "metadata": {},
   "outputs": [
    {
     "data": {
      "image/png": "[encoded data removed]",
      "text/plain": [
       "<Figure size 576x432 with 1 Axes>"
      ]
     },
     "metadata": {
      "needs_background": "light"
     },
     "output_type": "display_data"
    }
   ],
   "source": [
    "fig, ax = plt.subplots(figsize=(8, 6))\n",
    "ax = sns.barplot(x=[\"Data Scientist\",\"Lead Data Scientist\",\"Data Engineer\"],\n",
    "            y=[moy_ds,moy_lds,moy_de])\n",
    "ax.set(ylabel=\"Nombre d'années d'Experience\")\n",
    "plt.show()"
   ]
  },
  {
   "cell_type": "code",
   "execution_count": 872,
   "id": "757d4534",
   "metadata": {},
   "outputs": [
    {
     "data": {
      "image/png": "[encoded data removed]",
      "text/plain": [
       "<Figure size 576x432 with 1 Axes>"
      ]
     },
     "metadata": {
      "needs_background": "light"
     },
     "output_type": "display_data"
    }
   ],
   "source": [
    "fig, ax = plt.subplots(figsize=(8, 6))\n",
    "ax = sns.barplot(x=\"Metier\",\n",
    "            y=\"Experience\",data=df)\n",
    "ax.set(ylabel=\"Nombre d'années d'Experience\",xlabel='')\n",
    "plt.show()"
   ]
  },
  {
   "cell_type": "markdown",
   "id": "de35ffee",
   "metadata": {},
   "source": [
    "On définit les niveaux comme suit :\n",
    "<ul>\n",
    "    <li>débutant : Entre 0 et 1 an</li>\n",
    "    <li>confirmé : Entre 2 et 4 ans</li>\n",
    "    <li>avancé : Entre 5 et 9 ans</li>\n",
    "    <li>expert : 10+ ans</li>\n",
    "</ul>"
   ]
  },
  {
   "cell_type": "code",
   "execution_count": 873,
   "id": "0b8424b3",
   "metadata": {},
   "outputs": [],
   "source": [
    "category = pd.cut(df.Experience, bins=[0,2,5,10,float(\"inf\")],labels=[\"Junior\",\"Confirmé\",\"Avancé\",\"Expert\"],include_lowest=True,right=False)"
   ]
  },
  {
   "cell_type": "code",
   "execution_count": 874,
   "id": "fe59dcb1",
   "metadata": {},
   "outputs": [
    {
     "data": {
      "text/html": [
       "<div>\n",
       "<style scoped>\n",
       "    .dataframe tbody tr th:only-of-type {\n",
       "        vertical-align: middle;\n",
       "    }\n",
       "\n",
       "    .dataframe tbody tr th {\n",
       "        vertical-align: top;\n",
       "    }\n",
       "\n",
       "    .dataframe thead th {\n",
       "        text-align: right;\n",
       "    }\n",
       "</style>\n",
       "<table border=\"1\" class=\"dataframe\">\n",
       "  <thead>\n",
       "    <tr style=\"text-align: right;\">\n",
       "      <th></th>\n",
       "      <th>Entreprise</th>\n",
       "      <th>Metier</th>\n",
       "      <th>Technologies</th>\n",
       "      <th>Diplome</th>\n",
       "      <th>Experience</th>\n",
       "      <th>Ville</th>\n",
       "      <th>Exp_label</th>\n",
       "    </tr>\n",
       "  </thead>\n",
       "  <tbody>\n",
       "    <tr>\n",
       "      <th>0</th>\n",
       "      <td>Sanofi</td>\n",
       "      <td>Data scientist</td>\n",
       "      <td>Matlab/Python/Pyspark/Scikit-learn/Tensorflow</td>\n",
       "      <td>Master</td>\n",
       "      <td>1.0</td>\n",
       "      <td>Paris</td>\n",
       "      <td>Junior</td>\n",
       "    </tr>\n",
       "    <tr>\n",
       "      <th>1</th>\n",
       "      <td>Massachusetts General Hospital(MGH)</td>\n",
       "      <td>Data architecte</td>\n",
       "      <td>Python/Java/Scala/MongoDB</td>\n",
       "      <td>Master</td>\n",
       "      <td>3.0</td>\n",
       "      <td>Marseille</td>\n",
       "      <td>Confirmé</td>\n",
       "    </tr>\n",
       "    <tr>\n",
       "      <th>2</th>\n",
       "      <td>Delve</td>\n",
       "      <td>Lead data scientist</td>\n",
       "      <td>SPSS/SQL/Teradata/R/Python/Tensorflow/scikit-l...</td>\n",
       "      <td>Master</td>\n",
       "      <td>3.0</td>\n",
       "      <td>Nantes</td>\n",
       "      <td>Confirmé</td>\n",
       "    </tr>\n",
       "    <tr>\n",
       "      <th>3</th>\n",
       "      <td>Ann &amp; Robert H. Lurie Children’s Hospital of C...</td>\n",
       "      <td>Data scientist</td>\n",
       "      <td>C/C++/Java/Python</td>\n",
       "      <td>Master</td>\n",
       "      <td>1.5</td>\n",
       "      <td>Marseille</td>\n",
       "      <td>Junior</td>\n",
       "    </tr>\n",
       "    <tr>\n",
       "      <th>4</th>\n",
       "      <td>Arm</td>\n",
       "      <td>Data scientist</td>\n",
       "      <td>Matlab/Python/C++/numpy/Tensorflow/scikit-learn</td>\n",
       "      <td>Phd</td>\n",
       "      <td>2.0</td>\n",
       "      <td>Bordeaux</td>\n",
       "      <td>Confirmé</td>\n",
       "    </tr>\n",
       "  </tbody>\n",
       "</table>\n",
       "</div>"
      ],
      "text/plain": [
       "                                          Entreprise               Metier  \\\n",
       "0                                             Sanofi       Data scientist   \n",
       "1                Massachusetts General Hospital(MGH)      Data architecte   \n",
       "2                                              Delve  Lead data scientist   \n",
       "3  Ann & Robert H. Lurie Children’s Hospital of C...       Data scientist   \n",
       "4                                                Arm       Data scientist   \n",
       "\n",
       "                                        Technologies Diplome  Experience  \\\n",
       "0      Matlab/Python/Pyspark/Scikit-learn/Tensorflow  Master         1.0   \n",
       "1                          Python/Java/Scala/MongoDB  Master         3.0   \n",
       "2  SPSS/SQL/Teradata/R/Python/Tensorflow/scikit-l...  Master         3.0   \n",
       "3                                  C/C++/Java/Python  Master         1.5   \n",
       "4    Matlab/Python/C++/numpy/Tensorflow/scikit-learn     Phd         2.0   \n",
       "\n",
       "       Ville Exp_label  \n",
       "0      Paris    Junior  \n",
       "1  Marseille  Confirmé  \n",
       "2     Nantes  Confirmé  \n",
       "3  Marseille    Junior  \n",
       "4   Bordeaux  Confirmé  "
      ]
     },
     "execution_count": 874,
     "metadata": {},
     "output_type": "execute_result"
    }
   ],
   "source": [
    "# Ajout de la colonne Exp_label\n",
    "df[\"Exp_label\"] = category\n",
    "df.head()"
   ]
  },
  {
   "cell_type": "code",
   "execution_count": 875,
   "id": "1e76dfb5",
   "metadata": {},
   "outputs": [],
   "source": [
    "# df[\"Technologies\"].value_counts().plot(kind=\"barh\")"
   ]
  },
  {
   "cell_type": "code",
   "execution_count": 876,
   "id": "77956c6c",
   "metadata": {},
   "outputs": [
    {
     "data": {
      "text/plain": [
       "SQL/R/Python//Big data                                539\n",
       "SAS/Teradata/SQL/R/Python/Machine learning/Anglais    454\n",
       "C++/R/Python/Matlab/Matplotlib                        273\n",
       "SPSS/Excel/SAS/R/machine learning/AI/Scoring          249\n",
       "Hadoop/Hive/Vertica/Tableau                           246\n",
       "Name: Technologies, dtype: int64"
      ]
     },
     "execution_count": 876,
     "metadata": {},
     "output_type": "execute_result"
    }
   ],
   "source": [
    "# Les 5 technologies les plus utilisées\n",
    "x = df[\"Technologies\"].value_counts()\n",
    "x[0:5]"
   ]
  },
  {
   "cell_type": "code",
   "execution_count": 877,
   "id": "1e7985f1",
   "metadata": {},
   "outputs": [
    {
     "data": {
      "text/plain": [
       "<AxesSubplot:>"
      ]
     },
     "execution_count": 877,
     "metadata": {},
     "output_type": "execute_result"
    },
    {
     "data": {
      "image/png": "[encoded data removed]",
      "text/plain": [
       "<Figure size 432x288 with 1 Axes>"
      ]
     },
     "metadata": {
      "needs_background": "light"
     },
     "output_type": "display_data"
    }
   ],
   "source": [
    "# Graphe des 5 technologies les plus utilisées\n",
    "x[0:5].plot(kind=\"barh\")"
   ]
  },
  {
   "cell_type": "markdown",
   "id": "0e32c266",
   "metadata": {},
   "source": [
    "## Clustering\n",
    "\n",
    "Pour effectuer le clustering , on utilisera le modèle le plus intuitif : kmeans. Avant cela, faisant une petite representation graphiques de ce qu'on possède déjà."
   ]
  },
  {
   "cell_type": "code",
   "execution_count": 878,
   "id": "624c8616",
   "metadata": {},
   "outputs": [
    {
     "data": {
      "image/png": "[encoded data removed]",
      "text/plain": [
       "<Figure size 432x288 with 1 Axes>"
      ]
     },
     "metadata": {
      "needs_background": "light"
     },
     "output_type": "display_data"
    }
   ],
   "source": [
    "plt.subplot(324),\n",
    "ax = df['Exp_label'].value_counts().plot(kind='barh')\n",
    "plt.xlabel(\"# de profile\")\n",
    "ax.invert_yaxis()"
   ]
  },
  {
   "cell_type": "code",
   "execution_count": 879,
   "id": "967a2571",
   "metadata": {},
   "outputs": [
    {
     "data": {
      "image/png": "[encoded data removed]",
      "text/plain": [
       "<Figure size 432x288 with 1 Axes>"
      ]
     },
     "metadata": {
      "needs_background": "light"
     },
     "output_type": "display_data"
    }
   ],
   "source": [
    "plt.subplot(326),\n",
    "ax = df['Metier'].value_counts().plot.barh()\n",
    "plt.xlabel(\"Nombre de profiles\")\n",
    "ax.invert_yaxis()"
   ]
  },
  {
   "cell_type": "code",
   "execution_count": 880,
   "id": "2c4926de",
   "metadata": {},
   "outputs": [
    {
     "data": {
      "image/png": "[encoded data removed]",
      "text/plain": [
       "<Figure size 432x288 with 1 Axes>"
      ]
     },
     "metadata": {
      "needs_background": "light"
     },
     "output_type": "display_data"
    }
   ],
   "source": [
    "plt.subplot(325),\n",
    "ax = df['Diplome'].value_counts().plot(kind='barh')\n",
    "plt.xlabel(\"Nombre de profiles\")\n",
    "ax.invert_yaxis()"
   ]
  },
  {
   "cell_type": "markdown",
   "id": "cb97dfb1",
   "metadata": {},
   "source": [
    "Commençant la partie modélisation"
   ]
  },
  {
   "cell_type": "code",
   "execution_count": 882,
   "id": "77d05ea7",
   "metadata": {},
   "outputs": [],
   "source": [
    "from sklearn.cluster import KMeans\n",
    "from sklearn import preprocessing\n",
    "\n",
    "le = preprocessing.LabelEncoder()\n",
    "scaler = preprocessing.MinMaxScaler()"
   ]
  },
  {
   "cell_type": "markdown",
   "id": "bedc1e77",
   "metadata": {},
   "source": [
    "On doit d'abord faire l'encodage de nos données qui ne sont pas sous forme numérique."
   ]
  },
  {
   "cell_type": "code",
   "execution_count": 883,
   "id": "0a681290",
   "metadata": {},
   "outputs": [
    {
     "data": {
      "text/html": [
       "<div>\n",
       "<style scoped>\n",
       "    .dataframe tbody tr th:only-of-type {\n",
       "        vertical-align: middle;\n",
       "    }\n",
       "\n",
       "    .dataframe tbody tr th {\n",
       "        vertical-align: top;\n",
       "    }\n",
       "\n",
       "    .dataframe thead th {\n",
       "        text-align: right;\n",
       "    }\n",
       "</style>\n",
       "<table border=\"1\" class=\"dataframe\">\n",
       "  <thead>\n",
       "    <tr style=\"text-align: right;\">\n",
       "      <th></th>\n",
       "      <th>Experience</th>\n",
       "      <th>Ville_enc</th>\n",
       "      <th>Metier_enc</th>\n",
       "      <th>Technologies_enc</th>\n",
       "      <th>Diplome_enc</th>\n",
       "      <th>Exp_label_enc</th>\n",
       "      <th>Entreprise_enc</th>\n",
       "    </tr>\n",
       "  </thead>\n",
       "  <tbody>\n",
       "    <tr>\n",
       "      <th>0</th>\n",
       "      <td>1.0</td>\n",
       "      <td>8</td>\n",
       "      <td>2</td>\n",
       "      <td>27</td>\n",
       "      <td>1</td>\n",
       "      <td>3</td>\n",
       "      <td>1075</td>\n",
       "    </tr>\n",
       "    <tr>\n",
       "      <th>1</th>\n",
       "      <td>3.0</td>\n",
       "      <td>4</td>\n",
       "      <td>0</td>\n",
       "      <td>34</td>\n",
       "      <td>1</td>\n",
       "      <td>1</td>\n",
       "      <td>797</td>\n",
       "    </tr>\n",
       "    <tr>\n",
       "      <th>2</th>\n",
       "      <td>3.0</td>\n",
       "      <td>6</td>\n",
       "      <td>3</td>\n",
       "      <td>51</td>\n",
       "      <td>1</td>\n",
       "      <td>1</td>\n",
       "      <td>401</td>\n",
       "    </tr>\n",
       "    <tr>\n",
       "      <th>3</th>\n",
       "      <td>1.5</td>\n",
       "      <td>4</td>\n",
       "      <td>2</td>\n",
       "      <td>2</td>\n",
       "      <td>1</td>\n",
       "      <td>3</td>\n",
       "      <td>99</td>\n",
       "    </tr>\n",
       "    <tr>\n",
       "      <th>4</th>\n",
       "      <td>2.0</td>\n",
       "      <td>0</td>\n",
       "      <td>2</td>\n",
       "      <td>26</td>\n",
       "      <td>3</td>\n",
       "      <td>1</td>\n",
       "      <td>120</td>\n",
       "    </tr>\n",
       "  </tbody>\n",
       "</table>\n",
       "</div>"
      ],
      "text/plain": [
       "   Experience  Ville_enc  Metier_enc  Technologies_enc  Diplome_enc  \\\n",
       "0         1.0          8           2                27            1   \n",
       "1         3.0          4           0                34            1   \n",
       "2         3.0          6           3                51            1   \n",
       "3         1.5          4           2                 2            1   \n",
       "4         2.0          0           2                26            3   \n",
       "\n",
       "   Exp_label_enc  Entreprise_enc  \n",
       "0              3            1075  \n",
       "1              1             797  \n",
       "2              1             401  \n",
       "3              3              99  \n",
       "4              1             120  "
      ]
     },
     "execution_count": 883,
     "metadata": {},
     "output_type": "execute_result"
    }
   ],
   "source": [
    "df_enc = df.loc[:, ['Experience']]\n",
    "\n",
    "df_enc['Ville_enc'] = pd.Series(le.fit_transform(\n",
    "    np.squeeze(df.loc[:, ['Ville']])[:]), index=df_enc.index)\n",
    "\n",
    "df_enc['Metier_enc'] = pd.Series(le.fit_transform(\n",
    "    np.squeeze(df.loc[:, ['Metier']])[:]), index=df_enc.index)\n",
    "\n",
    "df_enc['Technologies_enc'] = pd.Series(le.fit_transform(\n",
    "    np.squeeze(df.loc[:, ['Technologies']])[:]), index=df_enc.index)\n",
    "\n",
    "df_enc['Diplome_enc'] = pd.Series(le.fit_transform(\n",
    "    np.squeeze(df.loc[:, ['Diplome']])[:]), index=df_enc.index)\n",
    "\n",
    "df_enc['Exp_label_enc'] = pd.Series(le.fit_transform(\n",
    "    np.squeeze(df.loc[:, ['Exp_label']])[:]), index=df_enc.index)\n",
    "\n",
    "df_enc['Entreprise_enc'] = pd.Series(le.fit_transform(\n",
    "    np.squeeze(df.loc[:, ['Entreprise']])[:]), index=df_enc.index)\n",
    "\n",
    "df_enc = np.round(df_enc, 2)\n",
    "\n",
    "df_enc.head(5)"
   ]
  },
  {
   "cell_type": "code",
   "execution_count": 884,
   "id": "583df0e0",
   "metadata": {},
   "outputs": [
    {
     "name": "stdout",
     "output_type": "stream",
     "text": [
      "<class 'pandas.core.frame.DataFrame'>\n",
      "Int64Index: 9546 entries, 0 to 9581\n",
      "Data columns (total 7 columns):\n",
      " #   Column            Non-Null Count  Dtype  \n",
      "---  ------            --------------  -----  \n",
      " 0   Experience        9546 non-null   float64\n",
      " 1   Ville_enc         9546 non-null   int64  \n",
      " 2   Metier_enc        9546 non-null   int64  \n",
      " 3   Technologies_enc  9546 non-null   int64  \n",
      " 4   Diplome_enc       9546 non-null   int64  \n",
      " 5   Exp_label_enc     9546 non-null   int64  \n",
      " 6   Entreprise_enc    9546 non-null   int64  \n",
      "dtypes: float64(1), int64(6)\n",
      "memory usage: 596.6 KB\n"
     ]
    }
   ],
   "source": [
    "df_enc.info()"
   ]
  },
  {
   "cell_type": "code",
   "execution_count": 885,
   "id": "aaa7bb0e",
   "metadata": {},
   "outputs": [
    {
     "data": {
      "text/html": [
       "<div>\n",
       "<style scoped>\n",
       "    .dataframe tbody tr th:only-of-type {\n",
       "        vertical-align: middle;\n",
       "    }\n",
       "\n",
       "    .dataframe tbody tr th {\n",
       "        vertical-align: top;\n",
       "    }\n",
       "\n",
       "    .dataframe thead th {\n",
       "        text-align: right;\n",
       "    }\n",
       "</style>\n",
       "<table border=\"1\" class=\"dataframe\">\n",
       "  <thead>\n",
       "    <tr style=\"text-align: right;\">\n",
       "      <th></th>\n",
       "      <th>Experience</th>\n",
       "      <th>Ville_enc</th>\n",
       "      <th>Metier_enc</th>\n",
       "      <th>Technologies_enc</th>\n",
       "      <th>Diplome_enc</th>\n",
       "      <th>Exp_label_enc</th>\n",
       "      <th>Entreprise_enc</th>\n",
       "    </tr>\n",
       "  </thead>\n",
       "  <tbody>\n",
       "    <tr>\n",
       "      <th>count</th>\n",
       "      <td>9546.000000</td>\n",
       "      <td>9546.000000</td>\n",
       "      <td>9546.000000</td>\n",
       "      <td>9546.000000</td>\n",
       "      <td>9546.000000</td>\n",
       "      <td>9546.000000</td>\n",
       "      <td>9546.000000</td>\n",
       "    </tr>\n",
       "    <tr>\n",
       "      <th>mean</th>\n",
       "      <td>2.806065</td>\n",
       "      <td>5.902787</td>\n",
       "      <td>1.438823</td>\n",
       "      <td>29.926671</td>\n",
       "      <td>1.426357</td>\n",
       "      <td>1.689399</td>\n",
       "      <td>640.246595</td>\n",
       "    </tr>\n",
       "    <tr>\n",
       "      <th>std</th>\n",
       "      <td>2.701802</td>\n",
       "      <td>3.761593</td>\n",
       "      <td>0.973013</td>\n",
       "      <td>16.951806</td>\n",
       "      <td>1.003333</td>\n",
       "      <td>1.136566</td>\n",
       "      <td>412.479615</td>\n",
       "    </tr>\n",
       "    <tr>\n",
       "      <th>min</th>\n",
       "      <td>0.000000</td>\n",
       "      <td>0.000000</td>\n",
       "      <td>0.000000</td>\n",
       "      <td>0.000000</td>\n",
       "      <td>0.000000</td>\n",
       "      <td>0.000000</td>\n",
       "      <td>0.000000</td>\n",
       "    </tr>\n",
       "    <tr>\n",
       "      <th>25%</th>\n",
       "      <td>1.000000</td>\n",
       "      <td>3.000000</td>\n",
       "      <td>1.000000</td>\n",
       "      <td>14.000000</td>\n",
       "      <td>1.000000</td>\n",
       "      <td>1.000000</td>\n",
       "      <td>224.000000</td>\n",
       "    </tr>\n",
       "    <tr>\n",
       "      <th>50%</th>\n",
       "      <td>2.000000</td>\n",
       "      <td>4.000000</td>\n",
       "      <td>2.000000</td>\n",
       "      <td>32.000000</td>\n",
       "      <td>1.000000</td>\n",
       "      <td>1.000000</td>\n",
       "      <td>632.000000</td>\n",
       "    </tr>\n",
       "    <tr>\n",
       "      <th>75%</th>\n",
       "      <td>3.500000</td>\n",
       "      <td>8.000000</td>\n",
       "      <td>2.000000</td>\n",
       "      <td>45.000000</td>\n",
       "      <td>2.000000</td>\n",
       "      <td>3.000000</td>\n",
       "      <td>989.000000</td>\n",
       "    </tr>\n",
       "    <tr>\n",
       "      <th>max</th>\n",
       "      <td>21.000000</td>\n",
       "      <td>13.000000</td>\n",
       "      <td>3.000000</td>\n",
       "      <td>56.000000</td>\n",
       "      <td>3.000000</td>\n",
       "      <td>3.000000</td>\n",
       "      <td>1381.000000</td>\n",
       "    </tr>\n",
       "  </tbody>\n",
       "</table>\n",
       "</div>"
      ],
      "text/plain": [
       "        Experience    Ville_enc   Metier_enc  Technologies_enc  Diplome_enc  \\\n",
       "count  9546.000000  9546.000000  9546.000000       9546.000000  9546.000000   \n",
       "mean      2.806065     5.902787     1.438823         29.926671     1.426357   \n",
       "std       2.701802     3.761593     0.973013         16.951806     1.003333   \n",
       "min       0.000000     0.000000     0.000000          0.000000     0.000000   \n",
       "25%       1.000000     3.000000     1.000000         14.000000     1.000000   \n",
       "50%       2.000000     4.000000     2.000000         32.000000     1.000000   \n",
       "75%       3.500000     8.000000     2.000000         45.000000     2.000000   \n",
       "max      21.000000    13.000000     3.000000         56.000000     3.000000   \n",
       "\n",
       "       Exp_label_enc  Entreprise_enc  \n",
       "count    9546.000000     9546.000000  \n",
       "mean        1.689399      640.246595  \n",
       "std         1.136566      412.479615  \n",
       "min         0.000000        0.000000  \n",
       "25%         1.000000      224.000000  \n",
       "50%         1.000000      632.000000  \n",
       "75%         3.000000      989.000000  \n",
       "max         3.000000     1381.000000  "
      ]
     },
     "execution_count": 885,
     "metadata": {},
     "output_type": "execute_result"
    }
   ],
   "source": [
    "df_enc.describe()"
   ]
  },
  {
   "cell_type": "markdown",
   "id": "16910c35",
   "metadata": {},
   "source": [
    "On fait du feature Scaling pour accélerer l'entrainement"
   ]
  },
  {
   "cell_type": "code",
   "execution_count": 886,
   "id": "dc296c0e",
   "metadata": {},
   "outputs": [
    {
     "data": {
      "text/html": [
       "<div>\n",
       "<style scoped>\n",
       "    .dataframe tbody tr th:only-of-type {\n",
       "        vertical-align: middle;\n",
       "    }\n",
       "\n",
       "    .dataframe tbody tr th {\n",
       "        vertical-align: top;\n",
       "    }\n",
       "\n",
       "    .dataframe thead th {\n",
       "        text-align: right;\n",
       "    }\n",
       "</style>\n",
       "<table border=\"1\" class=\"dataframe\">\n",
       "  <thead>\n",
       "    <tr style=\"text-align: right;\">\n",
       "      <th></th>\n",
       "      <th>Experience</th>\n",
       "      <th>Ville_enc</th>\n",
       "      <th>Metier_enc</th>\n",
       "      <th>Technologies_enc</th>\n",
       "      <th>Diplome_enc</th>\n",
       "      <th>Exp_label_enc</th>\n",
       "      <th>Entreprise_enc</th>\n",
       "    </tr>\n",
       "  </thead>\n",
       "  <tbody>\n",
       "    <tr>\n",
       "      <th>0</th>\n",
       "      <td>0.047619</td>\n",
       "      <td>0.615385</td>\n",
       "      <td>0.666667</td>\n",
       "      <td>0.482143</td>\n",
       "      <td>0.333333</td>\n",
       "      <td>1.000000</td>\n",
       "      <td>0.778421</td>\n",
       "    </tr>\n",
       "    <tr>\n",
       "      <th>1</th>\n",
       "      <td>0.142857</td>\n",
       "      <td>0.307692</td>\n",
       "      <td>0.000000</td>\n",
       "      <td>0.607143</td>\n",
       "      <td>0.333333</td>\n",
       "      <td>0.333333</td>\n",
       "      <td>0.577118</td>\n",
       "    </tr>\n",
       "    <tr>\n",
       "      <th>2</th>\n",
       "      <td>0.142857</td>\n",
       "      <td>0.461538</td>\n",
       "      <td>1.000000</td>\n",
       "      <td>0.910714</td>\n",
       "      <td>0.333333</td>\n",
       "      <td>0.333333</td>\n",
       "      <td>0.290369</td>\n",
       "    </tr>\n",
       "    <tr>\n",
       "      <th>3</th>\n",
       "      <td>0.071429</td>\n",
       "      <td>0.307692</td>\n",
       "      <td>0.666667</td>\n",
       "      <td>0.035714</td>\n",
       "      <td>0.333333</td>\n",
       "      <td>1.000000</td>\n",
       "      <td>0.071687</td>\n",
       "    </tr>\n",
       "    <tr>\n",
       "      <th>4</th>\n",
       "      <td>0.095238</td>\n",
       "      <td>0.000000</td>\n",
       "      <td>0.666667</td>\n",
       "      <td>0.464286</td>\n",
       "      <td>1.000000</td>\n",
       "      <td>0.333333</td>\n",
       "      <td>0.086894</td>\n",
       "    </tr>\n",
       "  </tbody>\n",
       "</table>\n",
       "</div>"
      ],
      "text/plain": [
       "   Experience  Ville_enc  Metier_enc  Technologies_enc  Diplome_enc  \\\n",
       "0    0.047619   0.615385    0.666667          0.482143     0.333333   \n",
       "1    0.142857   0.307692    0.000000          0.607143     0.333333   \n",
       "2    0.142857   0.461538    1.000000          0.910714     0.333333   \n",
       "3    0.071429   0.307692    0.666667          0.035714     0.333333   \n",
       "4    0.095238   0.000000    0.666667          0.464286     1.000000   \n",
       "\n",
       "   Exp_label_enc  Entreprise_enc  \n",
       "0       1.000000        0.778421  \n",
       "1       0.333333        0.577118  \n",
       "2       0.333333        0.290369  \n",
       "3       1.000000        0.071687  \n",
       "4       0.333333        0.086894  "
      ]
     },
     "execution_count": 886,
     "metadata": {},
     "output_type": "execute_result"
    }
   ],
   "source": [
    "# feature scaling\n",
    "df_scaled = scaler.fit_transform(df_enc)\n",
    "df_scaled = pd.DataFrame(df_scaled,columns = df_enc.columns)\n",
    "df_scaled.head()"
   ]
  },
  {
   "cell_type": "code",
   "execution_count": 887,
   "id": "97e3dbcc",
   "metadata": {},
   "outputs": [],
   "source": [
    "# On entraine le kmeans pour differentes valeurs de k\n",
    "inertias = []\n",
    "indexes = []\n",
    "for k in range(1,20):\n",
    "    kmeans = KMeans(n_clusters=k,max_iter=1000)\n",
    "    kmeans.fit(df_scaled)\n",
    "    labels_ = kmeans.labels_\n",
    "    inertia_ = kmeans.inertia_\n",
    "    inertias.append(inertia_)\n",
    "    indexes.append(k)"
   ]
  },
  {
   "cell_type": "code",
   "execution_count": 888,
   "id": "810a39d0",
   "metadata": {},
   "outputs": [
    {
     "data": {
      "image/png": "[encoded data removed]",
      "text/plain": [
       "<Figure size 432x288 with 1 Axes>"
      ]
     },
     "metadata": {
      "needs_background": "light"
     },
     "output_type": "display_data"
    }
   ],
   "source": [
    "plt.scatter(indexes,inertias)\n",
    "plt.plot(indexes,inertias)\n",
    "plt.xticks(np.arange(1,20,1))\n",
    "plt.show()"
   ]
  },
  {
   "cell_type": "markdown",
   "id": "85f7f48c",
   "metadata": {},
   "source": [
    "On choisit 2 clusters pour l'instant. On verra ce que cela donne au niveau des résultats"
   ]
  },
  {
   "cell_type": "code",
   "execution_count": 927,
   "id": "3283efff",
   "metadata": {},
   "outputs": [
    {
     "data": {
      "text/plain": [
       "4841.809778468504"
      ]
     },
     "execution_count": 927,
     "metadata": {},
     "output_type": "execute_result"
    }
   ],
   "source": [
    "kmeans = KMeans(n_clusters=2,max_iter=1000)\n",
    "kmeans.fit(df_scaled)\n",
    "labels_ = kmeans.labels_\n",
    "inertia_ = kmeans.inertia_\n",
    "    \n",
    "inertia_"
   ]
  },
  {
   "cell_type": "markdown",
   "id": "e3cf3683",
   "metadata": {},
   "source": [
    "L'inertia est assez grande ce qui montre que les résultats ne sont pas fameux. On verra quand même ce que cela donne."
   ]
  },
  {
   "cell_type": "code",
   "execution_count": 928,
   "id": "2683951a",
   "metadata": {},
   "outputs": [
    {
     "data": {
      "text/plain": [
       "<AxesSubplot:xlabel='Metier_enc', ylabel='Experience'>"
      ]
     },
     "execution_count": 928,
     "metadata": {},
     "output_type": "execute_result"
    },
    {
     "data": {
      "image/png": "[encoded data removed]",
      "text/plain": [
       "<Figure size 432x288 with 1 Axes>"
      ]
     },
     "metadata": {
      "needs_background": "light"
     },
     "output_type": "display_data"
    }
   ],
   "source": [
    "sns.barplot(x='Metier_enc',y='Experience',data=df_enc,hue=labels_)"
   ]
  },
  {
   "cell_type": "code",
   "execution_count": 930,
   "id": "dbca9419",
   "metadata": {},
   "outputs": [
    {
     "data": {
      "text/plain": [
       "<AxesSubplot:xlabel='Diplome_enc', ylabel='Experience'>"
      ]
     },
     "execution_count": 930,
     "metadata": {},
     "output_type": "execute_result"
    },
    {
     "data": {
      "image/png": "[encoded data removed]",
      "text/plain": [
       "<Figure size 432x288 with 1 Axes>"
      ]
     },
     "metadata": {
      "needs_background": "light"
     },
     "output_type": "display_data"
    }
   ],
   "source": [
    "sns.barplot(x='Diplome_enc',y='Experience',data=df_enc,hue=labels_)"
   ]
  },
  {
   "cell_type": "code",
   "execution_count": 931,
   "id": "7e3040d5",
   "metadata": {},
   "outputs": [
    {
     "data": {
      "text/plain": [
       "<AxesSubplot:xlabel='Metier_enc', ylabel='Experience'>"
      ]
     },
     "execution_count": 931,
     "metadata": {},
     "output_type": "execute_result"
    },
    {
     "data": {
      "image/png": "[encoded data removed]",
      "text/plain": [
       "<Figure size 432x288 with 1 Axes>"
      ]
     },
     "metadata": {
      "needs_background": "light"
     },
     "output_type": "display_data"
    }
   ],
   "source": [
    "sns.barplot(x='Metier_enc',y='Experience',data=df_enc,hue=labels_)"
   ]
  },
  {
   "cell_type": "code",
   "execution_count": 932,
   "id": "0ac609da",
   "metadata": {
    "scrolled": false
   },
   "outputs": [
    {
     "data": {
      "text/plain": [
       "<AxesSubplot:xlabel='Entreprise_enc', ylabel='Experience'>"
      ]
     },
     "execution_count": 932,
     "metadata": {},
     "output_type": "execute_result"
    },
    {
     "data": {
      "image/png": "[encoded data removed]",
      "text/plain": [
       "<Figure size 432x288 with 1 Axes>"
      ]
     },
     "metadata": {
      "needs_background": "light"
     },
     "output_type": "display_data"
    }
   ],
   "source": [
    "sns.scatterplot(x='Entreprise_enc',y='Experience',data=df_enc,hue=labels_)"
   ]
  },
  {
   "cell_type": "code",
   "execution_count": 941,
   "id": "c396f12a",
   "metadata": {},
   "outputs": [
    {
     "data": {
      "text/plain": [
       "<AxesSubplot:ylabel='Experience'>"
      ]
     },
     "execution_count": 941,
     "metadata": {},
     "output_type": "execute_result"
    },
    {
     "data": {
      "image/png": "[encoded data removed]",
      "text/plain": [
       "<Figure size 432x288 with 1 Axes>"
      ]
     },
     "metadata": {
      "needs_background": "light"
     },
     "output_type": "display_data"
    }
   ],
   "source": [
    "sns.barplot(x=labels_,y=df_enc['Experience'])"
   ]
  },
  {
   "cell_type": "markdown",
   "id": "bde11db8",
   "metadata": {},
   "source": [
    "C'est clair qu'un cluster represente les jeunes profils dans chaque métier, et l'autre représente les profils plus expérimenté."
   ]
  },
  {
   "cell_type": "markdown",
   "id": "dcc40cb9",
   "metadata": {},
   "source": [
    "Cluster 1 : Celui des profils Juniors\n",
    "\n",
    "Cluster 2 : Celui des profils plus expérimentés."
   ]
  },
  {
   "cell_type": "markdown",
   "id": "3d2c87e9",
   "metadata": {},
   "source": [
    "## Prédiction des valeurs manquantes"
   ]
  },
  {
   "cell_type": "markdown",
   "id": "937c6ed3",
   "metadata": {},
   "source": [
    "On prépare notre dataset comme tout à l'heure en enlevant les valeurs manquantes"
   ]
  },
  {
   "cell_type": "code",
   "execution_count": 1221,
   "id": "bdee4482",
   "metadata": {},
   "outputs": [
    {
     "data": {
      "text/plain": [
       "array(['Data scientist', 'Data architecte', 'Lead data scientist',\n",
       "       'Data engineer'], dtype=object)"
      ]
     },
     "execution_count": 1221,
     "metadata": {},
     "output_type": "execute_result"
    }
   ],
   "source": [
    "#Notre dataset\n",
    "df = pd.read_csv(\"data.csv\")\n",
    "\n",
    "# Liste des metiers\n",
    "metiers = df[\"Metier\"].unique()\n",
    "metiers = metiers[0:-1]\n",
    "metiers"
   ]
  },
  {
   "cell_type": "code",
   "execution_count": 1222,
   "id": "e611e42b",
   "metadata": {},
   "outputs": [],
   "source": [
    "# Conversion d'Experience de String a Float\n",
    "df['Experience'] = df['Experience'].str.replace(',','.')\n",
    "df[\"Experience\"] = df[\"Experience\"].astype(float)"
   ]
  },
  {
   "cell_type": "code",
   "execution_count": 1223,
   "id": "de72cfec",
   "metadata": {},
   "outputs": [
    {
     "name": "stdout",
     "output_type": "stream",
     "text": [
      "2.8141863406408096\n",
      "2.0\n"
     ]
    }
   ],
   "source": [
    "med = df[\"Experience\"].median()\n",
    "moy = df[\"Experience\"].mean()\n",
    "print(moy)\n",
    "print(med)"
   ]
  },
  {
   "cell_type": "code",
   "execution_count": 1224,
   "id": "2b3d8960",
   "metadata": {},
   "outputs": [
    {
     "data": {
      "text/html": [
       "<div>\n",
       "<style scoped>\n",
       "    .dataframe tbody tr th:only-of-type {\n",
       "        vertical-align: middle;\n",
       "    }\n",
       "\n",
       "    .dataframe tbody tr th {\n",
       "        vertical-align: top;\n",
       "    }\n",
       "\n",
       "    .dataframe thead th {\n",
       "        text-align: right;\n",
       "    }\n",
       "</style>\n",
       "<table border=\"1\" class=\"dataframe\">\n",
       "  <thead>\n",
       "    <tr style=\"text-align: right;\">\n",
       "      <th></th>\n",
       "      <th>Entreprise</th>\n",
       "      <th>Metier</th>\n",
       "      <th>Technologies</th>\n",
       "      <th>Diplome</th>\n",
       "      <th>Experience</th>\n",
       "      <th>Ville</th>\n",
       "    </tr>\n",
       "  </thead>\n",
       "  <tbody>\n",
       "    <tr>\n",
       "      <th>0</th>\n",
       "      <td>Sanofi</td>\n",
       "      <td>Data scientist</td>\n",
       "      <td>Matlab/Python/Pyspark/Scikit-learn/Tensorflow</td>\n",
       "      <td>Master</td>\n",
       "      <td>1.0</td>\n",
       "      <td>Paris</td>\n",
       "    </tr>\n",
       "    <tr>\n",
       "      <th>1</th>\n",
       "      <td>Massachusetts General Hospital(MGH)</td>\n",
       "      <td>Data architecte</td>\n",
       "      <td>Python/Java/Scala/MongoDB</td>\n",
       "      <td>Master</td>\n",
       "      <td>3.0</td>\n",
       "      <td>Marseille</td>\n",
       "    </tr>\n",
       "    <tr>\n",
       "      <th>2</th>\n",
       "      <td>Delve</td>\n",
       "      <td>Lead data scientist</td>\n",
       "      <td>SPSS/SQL/Teradata/R/Python/Tensorflow/scikit-l...</td>\n",
       "      <td>Master</td>\n",
       "      <td>3.0</td>\n",
       "      <td>Nantes</td>\n",
       "    </tr>\n",
       "    <tr>\n",
       "      <th>3</th>\n",
       "      <td>Ann &amp; Robert H. Lurie Children’s Hospital of C...</td>\n",
       "      <td>Data scientist</td>\n",
       "      <td>C/C++/Java/Python</td>\n",
       "      <td>Master</td>\n",
       "      <td>1.5</td>\n",
       "      <td>Marseille</td>\n",
       "    </tr>\n",
       "    <tr>\n",
       "      <th>4</th>\n",
       "      <td>Arm</td>\n",
       "      <td>Data scientist</td>\n",
       "      <td>Matlab/Python/C++/numpy/Tensorflow/scikit-learn</td>\n",
       "      <td>Phd</td>\n",
       "      <td>2.0</td>\n",
       "      <td>Bordeaux</td>\n",
       "    </tr>\n",
       "  </tbody>\n",
       "</table>\n",
       "</div>"
      ],
      "text/plain": [
       "                                          Entreprise               Metier  \\\n",
       "0                                             Sanofi       Data scientist   \n",
       "1                Massachusetts General Hospital(MGH)      Data architecte   \n",
       "2                                              Delve  Lead data scientist   \n",
       "3  Ann & Robert H. Lurie Children’s Hospital of C...       Data scientist   \n",
       "4                                                Arm       Data scientist   \n",
       "\n",
       "                                        Technologies Diplome  Experience  \\\n",
       "0      Matlab/Python/Pyspark/Scikit-learn/Tensorflow  Master         1.0   \n",
       "1                          Python/Java/Scala/MongoDB  Master         3.0   \n",
       "2  SPSS/SQL/Teradata/R/Python/Tensorflow/scikit-l...  Master         3.0   \n",
       "3                                  C/C++/Java/Python  Master         1.5   \n",
       "4    Matlab/Python/C++/numpy/Tensorflow/scikit-learn     Phd         2.0   \n",
       "\n",
       "       Ville  \n",
       "0      Paris  \n",
       "1  Marseille  \n",
       "2     Nantes  \n",
       "3  Marseille  \n",
       "4   Bordeaux  "
      ]
     },
     "execution_count": 1224,
     "metadata": {},
     "output_type": "execute_result"
    }
   ],
   "source": [
    "df.loc[(df['Metier'] == \"Data scientist\") & (df['Experience'].isnull()), \"Experience\"] = med\n",
    "df.loc[(df['Metier'] == \"Data engineer\") & (df['Experience'].isnull()), \"Experience\"] = moy\n",
    "df.loc[(df['Metier'] == \"Lead data scientist\") & (df['Experience'].isnull()), \"Experience\"] = med\n",
    "df.loc[(df['Metier'] == \"Data architecte\") & (df['Experience'].isnull()), \"Experience\"] = med\n",
    "df.head()"
   ]
  },
  {
   "cell_type": "code",
   "execution_count": 1225,
   "id": "fcdeaa13",
   "metadata": {},
   "outputs": [],
   "source": [
    "df.dropna(subset=['Entreprise'],inplace=True)"
   ]
  },
  {
   "cell_type": "code",
   "execution_count": 1226,
   "id": "130b9881",
   "metadata": {},
   "outputs": [
    {
     "data": {
      "text/plain": [
       "Entreprise       0\n",
       "Metier          19\n",
       "Technologies     0\n",
       "Diplome          0\n",
       "Experience       0\n",
       "Ville            0\n",
       "dtype: int64"
      ]
     },
     "execution_count": 1226,
     "metadata": {},
     "output_type": "execute_result"
    }
   ],
   "source": [
    "df.isnull().sum()"
   ]
  },
  {
   "cell_type": "markdown",
   "id": "4c398d26",
   "metadata": {},
   "source": [
    "On va essayer maintenant de séparer nos données. Les lignes non nulles feront partie de nos données d'entrainement ou de validation, et les lignes où le métier manque seront gardé de coté dans ce qu'on appelera testset et qu'on utilisera vers la fin."
   ]
  },
  {
   "cell_type": "code",
   "execution_count": 1227,
   "id": "25b0453a",
   "metadata": {},
   "outputs": [
    {
     "data": {
      "text/html": [
       "<div>\n",
       "<style scoped>\n",
       "    .dataframe tbody tr th:only-of-type {\n",
       "        vertical-align: middle;\n",
       "    }\n",
       "\n",
       "    .dataframe tbody tr th {\n",
       "        vertical-align: top;\n",
       "    }\n",
       "\n",
       "    .dataframe thead th {\n",
       "        text-align: right;\n",
       "    }\n",
       "</style>\n",
       "<table border=\"1\" class=\"dataframe\">\n",
       "  <thead>\n",
       "    <tr style=\"text-align: right;\">\n",
       "      <th></th>\n",
       "      <th>Entreprise</th>\n",
       "      <th>Technologies</th>\n",
       "      <th>Diplome</th>\n",
       "      <th>Experience</th>\n",
       "      <th>Ville</th>\n",
       "    </tr>\n",
       "  </thead>\n",
       "  <tbody>\n",
       "    <tr>\n",
       "      <th>346</th>\n",
       "      <td>Jacobs</td>\n",
       "      <td>Python/Spark/GNU/Linux</td>\n",
       "      <td>No diploma</td>\n",
       "      <td>2.5</td>\n",
       "      <td>Paris</td>\n",
       "    </tr>\n",
       "    <tr>\n",
       "      <th>2058</th>\n",
       "      <td>Ball Aerospace</td>\n",
       "      <td>VBA/Python/Excel/R</td>\n",
       "      <td>Master</td>\n",
       "      <td>15.0</td>\n",
       "      <td>Lyon</td>\n",
       "    </tr>\n",
       "    <tr>\n",
       "      <th>2670</th>\n",
       "      <td>eHire, LLC</td>\n",
       "      <td>Java/C/C++/R/Python</td>\n",
       "      <td>Master</td>\n",
       "      <td>1.5</td>\n",
       "      <td>Toulouse</td>\n",
       "    </tr>\n",
       "    <tr>\n",
       "      <th>2899</th>\n",
       "      <td>Norfolk Southern Corp</td>\n",
       "      <td>Python/Tensorflow/scikit-learn/Deep learning/R</td>\n",
       "      <td>Phd</td>\n",
       "      <td>0.0</td>\n",
       "      <td>Grenoble</td>\n",
       "    </tr>\n",
       "    <tr>\n",
       "      <th>3346</th>\n",
       "      <td>J.E. Ranta Associates</td>\n",
       "      <td>Cassandra/MongoDB/NoSQL/AWS</td>\n",
       "      <td>Master</td>\n",
       "      <td>7.0</td>\n",
       "      <td>Rennes</td>\n",
       "    </tr>\n",
       "  </tbody>\n",
       "</table>\n",
       "</div>"
      ],
      "text/plain": [
       "                 Entreprise                                    Technologies  \\\n",
       "346                  Jacobs                          Python/Spark/GNU/Linux   \n",
       "2058         Ball Aerospace                              VBA/Python/Excel/R   \n",
       "2670             eHire, LLC                             Java/C/C++/R/Python   \n",
       "2899  Norfolk Southern Corp  Python/Tensorflow/scikit-learn/Deep learning/R   \n",
       "3346  J.E. Ranta Associates                     Cassandra/MongoDB/NoSQL/AWS   \n",
       "\n",
       "         Diplome  Experience     Ville  \n",
       "346   No diploma         2.5     Paris  \n",
       "2058      Master        15.0      Lyon  \n",
       "2670      Master         1.5  Toulouse  \n",
       "2899         Phd         0.0  Grenoble  \n",
       "3346      Master         7.0    Rennes  "
      ]
     },
     "execution_count": 1227,
     "metadata": {},
     "output_type": "execute_result"
    }
   ],
   "source": [
    "#Séparation en train/test set\n",
    "mask_metier = df.loc[:, 'Metier'].isna()\n",
    "\n",
    "set_to_predict = df[mask_metier].drop([\"Metier\"],axis=1)\n",
    "df_lr = df[~mask_metier]\n",
    "\n",
    "set_to_predict.head()"
   ]
  },
  {
   "cell_type": "markdown",
   "id": "779bfc9f",
   "metadata": {},
   "source": [
    "Le modèle qu'on va utilisé pour la classification est le modèle de regression logistique. On l'a choisi car il est simplice, polyvalent et direcct.\n",
    "\n",
    "On va à présent encoder nos valeurs pour les préparer à être utilisé par le modèle de classification."
   ]
  },
  {
   "cell_type": "code",
   "execution_count": 1228,
   "id": "32c99180",
   "metadata": {},
   "outputs": [],
   "source": [
    "# Fonction d'encodage de dataset\n",
    "def encode_df(dataset):\n",
    "    X = dataset.loc[:, ['Experience']]\n",
    "    X['Ville_enc'] = pd.Series(le.fit_transform(\n",
    "        np.squeeze(dataset.loc[:, ['Ville']])[:]), index=dataset.index)\n",
    "    X['Technologies_enc'] = pd.Series(le.fit_transform(\n",
    "        np.squeeze(dataset.loc[:, ['Technologies']])[:]), index=dataset.index)\n",
    "    X['Diplome_enc'] = pd.Series(le.fit_transform(\n",
    "        np.squeeze(dataset.loc[:, ['Diplome']])[:]), index=dataset.index)\n",
    "    X['Entreprise_enc'] = pd.Series(le.fit_transform(\n",
    "        np.squeeze(dataset.loc[:, ['Entreprise']])[:]), index=dataset.index)\n",
    "    X = np.round(X, 2)\n",
    "    return X\n",
    "\n",
    "# Encodage des données d'entrée pour la classification\n",
    "## Encodage des données d'entrainement et de test\n",
    "X = encode_df(df_lr)\n",
    "## Encondage des données à prédire\n",
    "set_to_predict_enc = encode_df(set_to_predict)"
   ]
  },
  {
   "cell_type": "code",
   "execution_count": 1229,
   "id": "e67062db",
   "metadata": {},
   "outputs": [
    {
     "data": {
      "text/html": [
       "<div>\n",
       "<style scoped>\n",
       "    .dataframe tbody tr th:only-of-type {\n",
       "        vertical-align: middle;\n",
       "    }\n",
       "\n",
       "    .dataframe tbody tr th {\n",
       "        vertical-align: top;\n",
       "    }\n",
       "\n",
       "    .dataframe thead th {\n",
       "        text-align: right;\n",
       "    }\n",
       "</style>\n",
       "<table border=\"1\" class=\"dataframe\">\n",
       "  <thead>\n",
       "    <tr style=\"text-align: right;\">\n",
       "      <th></th>\n",
       "      <th>Experience</th>\n",
       "      <th>Ville_enc</th>\n",
       "      <th>Technologies_enc</th>\n",
       "      <th>Diplome_enc</th>\n",
       "      <th>Entreprise_enc</th>\n",
       "    </tr>\n",
       "  </thead>\n",
       "  <tbody>\n",
       "    <tr>\n",
       "      <th>0</th>\n",
       "      <td>0.047619</td>\n",
       "      <td>0.615385</td>\n",
       "      <td>0.482143</td>\n",
       "      <td>0.333333</td>\n",
       "      <td>0.778421</td>\n",
       "    </tr>\n",
       "    <tr>\n",
       "      <th>1</th>\n",
       "      <td>0.142857</td>\n",
       "      <td>0.307692</td>\n",
       "      <td>0.607143</td>\n",
       "      <td>0.333333</td>\n",
       "      <td>0.577118</td>\n",
       "    </tr>\n",
       "    <tr>\n",
       "      <th>2</th>\n",
       "      <td>0.142857</td>\n",
       "      <td>0.461538</td>\n",
       "      <td>0.910714</td>\n",
       "      <td>0.333333</td>\n",
       "      <td>0.290369</td>\n",
       "    </tr>\n",
       "    <tr>\n",
       "      <th>3</th>\n",
       "      <td>0.071429</td>\n",
       "      <td>0.307692</td>\n",
       "      <td>0.035714</td>\n",
       "      <td>0.333333</td>\n",
       "      <td>0.071687</td>\n",
       "    </tr>\n",
       "    <tr>\n",
       "      <th>4</th>\n",
       "      <td>0.095238</td>\n",
       "      <td>0.000000</td>\n",
       "      <td>0.464286</td>\n",
       "      <td>1.000000</td>\n",
       "      <td>0.086894</td>\n",
       "    </tr>\n",
       "  </tbody>\n",
       "</table>\n",
       "</div>"
      ],
      "text/plain": [
       "   Experience  Ville_enc  Technologies_enc  Diplome_enc  Entreprise_enc\n",
       "0    0.047619   0.615385          0.482143     0.333333        0.778421\n",
       "1    0.142857   0.307692          0.607143     0.333333        0.577118\n",
       "2    0.142857   0.461538          0.910714     0.333333        0.290369\n",
       "3    0.071429   0.307692          0.035714     0.333333        0.071687\n",
       "4    0.095238   0.000000          0.464286     1.000000        0.086894"
      ]
     },
     "execution_count": 1229,
     "metadata": {},
     "output_type": "execute_result"
    }
   ],
   "source": [
    "# feature scaling\n",
    "column_names = X.columns\n",
    "X = scaler.fit_transform(X)\n",
    "X = pd.DataFrame(X,columns = column_names)\n",
    "X.head()"
   ]
  },
  {
   "cell_type": "code",
   "execution_count": 1230,
   "id": "1852f341",
   "metadata": {},
   "outputs": [
    {
     "data": {
      "text/plain": [
       "array([2, 0, 3, ..., 2, 2, 2])"
      ]
     },
     "execution_count": 1230,
     "metadata": {},
     "output_type": "execute_result"
    }
   ],
   "source": [
    "# Sortie du modèle\n",
    "y = le.fit_transform(df_lr['Metier'])\n",
    "y"
   ]
  },
  {
   "cell_type": "markdown",
   "id": "706e73a9",
   "metadata": {},
   "source": [
    "On commence la modélisation."
   ]
  },
  {
   "cell_type": "code",
   "execution_count": 1231,
   "id": "1b69596b",
   "metadata": {},
   "outputs": [
    {
     "data": {
      "text/plain": [
       "LogisticRegression(max_iter=3000, random_state=0)"
      ]
     },
     "execution_count": 1231,
     "metadata": {},
     "output_type": "execute_result"
    }
   ],
   "source": [
    "from sklearn.model_selection import train_test_split\n",
    "from sklearn.linear_model import LogisticRegression\n",
    "\n",
    "#Séparation des données\n",
    "X_train, X_test, y_train, y_test = train_test_split(\n",
    "    X, y, test_size=.3, shuffle=True, random_state=25)\n",
    "\n",
    "#Entrainement du modèle\n",
    "LR = LogisticRegression(random_state=0, max_iter=3000)\n",
    "LR.fit(X_train,y_train)"
   ]
  },
  {
   "cell_type": "code",
   "execution_count": 1232,
   "id": "7a42c8b5",
   "metadata": {},
   "outputs": [
    {
     "data": {
      "text/plain": [
       "array([2, 2, 2, ..., 2, 2, 2])"
      ]
     },
     "execution_count": 1232,
     "metadata": {},
     "output_type": "execute_result"
    }
   ],
   "source": [
    "#Prédiction sur les données de test\n",
    "test_predictions = LR.predict(X_test)\n",
    "test_predictions"
   ]
  },
  {
   "cell_type": "code",
   "execution_count": 1233,
   "id": "d97bb248",
   "metadata": {},
   "outputs": [
    {
     "name": "stdout",
     "output_type": "stream",
     "text": [
      "Precision du modèle sur les données de test: 0.4623\n"
     ]
    }
   ],
   "source": [
    "#Precision du modèle sur les données de test\n",
    "print('Precision du modèle sur les données de test: {0:0.4f}'. format(accuracy_score(y_test, test_predictions)))"
   ]
  },
  {
   "cell_type": "markdown",
   "id": "7f07e323",
   "metadata": {},
   "source": [
    "La précision n'est clairement pas assez grande. On verra ce que cela va donner."
   ]
  },
  {
   "cell_type": "code",
   "execution_count": 1234,
   "id": "dcc5dafc",
   "metadata": {},
   "outputs": [
    {
     "name": "stdout",
     "output_type": "stream",
     "text": [
      "Precision du modèle sur les données d entrainement: 0.4541\n"
     ]
    }
   ],
   "source": [
    "#Prédiction sur les données d'entrainement\n",
    "train_predictions = LR.predict(X_train)\n",
    "\n",
    "#Precision du modèle sur les données d'entrainement\n",
    "print('Precision du modèle sur les données d entrainement: {0:0.4f}'. format(accuracy_score(y_train, train_predictions)))"
   ]
  },
  {
   "cell_type": "code",
   "execution_count": 1235,
   "id": "2f611179",
   "metadata": {},
   "outputs": [
    {
     "data": {
      "text/html": [
       "<div>\n",
       "<style scoped>\n",
       "    .dataframe tbody tr th:only-of-type {\n",
       "        vertical-align: middle;\n",
       "    }\n",
       "\n",
       "    .dataframe tbody tr th {\n",
       "        vertical-align: top;\n",
       "    }\n",
       "\n",
       "    .dataframe thead th {\n",
       "        text-align: right;\n",
       "    }\n",
       "</style>\n",
       "<table border=\"1\" class=\"dataframe\">\n",
       "  <thead>\n",
       "    <tr style=\"text-align: right;\">\n",
       "      <th></th>\n",
       "      <th>0</th>\n",
       "      <th>1</th>\n",
       "      <th>2</th>\n",
       "      <th>3</th>\n",
       "    </tr>\n",
       "  </thead>\n",
       "  <tbody>\n",
       "    <tr>\n",
       "      <th>0</th>\n",
       "      <td>108</td>\n",
       "      <td>217</td>\n",
       "      <td>280</td>\n",
       "      <td>10</td>\n",
       "    </tr>\n",
       "    <tr>\n",
       "      <th>1</th>\n",
       "      <td>96</td>\n",
       "      <td>222</td>\n",
       "      <td>363</td>\n",
       "      <td>19</td>\n",
       "    </tr>\n",
       "    <tr>\n",
       "      <th>2</th>\n",
       "      <td>82</td>\n",
       "      <td>127</td>\n",
       "      <td>952</td>\n",
       "      <td>33</td>\n",
       "    </tr>\n",
       "    <tr>\n",
       "      <th>3</th>\n",
       "      <td>18</td>\n",
       "      <td>47</td>\n",
       "      <td>248</td>\n",
       "      <td>42</td>\n",
       "    </tr>\n",
       "  </tbody>\n",
       "</table>\n",
       "</div>"
      ],
      "text/plain": [
       "     0    1    2   3\n",
       "0  108  217  280  10\n",
       "1   96  222  363  19\n",
       "2   82  127  952  33\n",
       "3   18   47  248  42"
      ]
     },
     "execution_count": 1235,
     "metadata": {},
     "output_type": "execute_result"
    }
   ],
   "source": [
    "# Matrice de confusion\n",
    "cm = pd.DataFrame(confusion_matrix(y_test, test_predictions))\n",
    "cm"
   ]
  },
  {
   "cell_type": "markdown",
   "id": "d99c9a12",
   "metadata": {},
   "source": [
    "On va essayer maintenant de predire les métiers manquants."
   ]
  },
  {
   "cell_type": "code",
   "execution_count": 1236,
   "id": "83d6ce22",
   "metadata": {},
   "outputs": [
    {
     "data": {
      "text/html": [
       "<div>\n",
       "<style scoped>\n",
       "    .dataframe tbody tr th:only-of-type {\n",
       "        vertical-align: middle;\n",
       "    }\n",
       "\n",
       "    .dataframe tbody tr th {\n",
       "        vertical-align: top;\n",
       "    }\n",
       "\n",
       "    .dataframe thead th {\n",
       "        text-align: right;\n",
       "    }\n",
       "</style>\n",
       "<table border=\"1\" class=\"dataframe\">\n",
       "  <thead>\n",
       "    <tr style=\"text-align: right;\">\n",
       "      <th></th>\n",
       "      <th>Entreprise</th>\n",
       "      <th>Technologies</th>\n",
       "      <th>Diplome</th>\n",
       "      <th>Experience</th>\n",
       "      <th>Ville</th>\n",
       "      <th>Metier</th>\n",
       "    </tr>\n",
       "  </thead>\n",
       "  <tbody>\n",
       "    <tr>\n",
       "      <th>346</th>\n",
       "      <td>Jacobs</td>\n",
       "      <td>Python/Spark/GNU/Linux</td>\n",
       "      <td>No diploma</td>\n",
       "      <td>2.5</td>\n",
       "      <td>Paris</td>\n",
       "      <td>Lead data scientist</td>\n",
       "    </tr>\n",
       "    <tr>\n",
       "      <th>2058</th>\n",
       "      <td>Ball Aerospace</td>\n",
       "      <td>VBA/Python/Excel/R</td>\n",
       "      <td>Master</td>\n",
       "      <td>15.0</td>\n",
       "      <td>Lyon</td>\n",
       "      <td>Lead data scientist</td>\n",
       "    </tr>\n",
       "    <tr>\n",
       "      <th>2670</th>\n",
       "      <td>eHire, LLC</td>\n",
       "      <td>Java/C/C++/R/Python</td>\n",
       "      <td>Master</td>\n",
       "      <td>1.5</td>\n",
       "      <td>Toulouse</td>\n",
       "      <td>Lead data scientist</td>\n",
       "    </tr>\n",
       "    <tr>\n",
       "      <th>2899</th>\n",
       "      <td>Norfolk Southern Corp</td>\n",
       "      <td>Python/Tensorflow/scikit-learn/Deep learning/R</td>\n",
       "      <td>Phd</td>\n",
       "      <td>0.0</td>\n",
       "      <td>Grenoble</td>\n",
       "      <td>Lead data scientist</td>\n",
       "    </tr>\n",
       "    <tr>\n",
       "      <th>3346</th>\n",
       "      <td>J.E. Ranta Associates</td>\n",
       "      <td>Cassandra/MongoDB/NoSQL/AWS</td>\n",
       "      <td>Master</td>\n",
       "      <td>7.0</td>\n",
       "      <td>Rennes</td>\n",
       "      <td>Lead data scientist</td>\n",
       "    </tr>\n",
       "    <tr>\n",
       "      <th>4248</th>\n",
       "      <td>KPMG</td>\n",
       "      <td>Python/Microsoft Azure/R/SQL</td>\n",
       "      <td>Phd</td>\n",
       "      <td>2.0</td>\n",
       "      <td>Lyon</td>\n",
       "      <td>Lead data scientist</td>\n",
       "    </tr>\n",
       "    <tr>\n",
       "      <th>4290</th>\n",
       "      <td>Pandora Media, Inc.</td>\n",
       "      <td>SAS/Teradata/SQL/R/Python/Machine learning/Ang...</td>\n",
       "      <td>Phd</td>\n",
       "      <td>1.5</td>\n",
       "      <td>Toulouse</td>\n",
       "      <td>Lead data scientist</td>\n",
       "    </tr>\n",
       "    <tr>\n",
       "      <th>4292</th>\n",
       "      <td>Partners HealthCare(PHS)</td>\n",
       "      <td>SAS/Teradata/SQL/R/Python/Machine learning/Ang...</td>\n",
       "      <td>Master</td>\n",
       "      <td>8.0</td>\n",
       "      <td>Bordeaux</td>\n",
       "      <td>Lead data scientist</td>\n",
       "    </tr>\n",
       "    <tr>\n",
       "      <th>5425</th>\n",
       "      <td>Ashton Lane Group</td>\n",
       "      <td>Python/Pyspark/Spark</td>\n",
       "      <td>No diploma</td>\n",
       "      <td>5.0</td>\n",
       "      <td>Lyon</td>\n",
       "      <td>Lead data scientist</td>\n",
       "    </tr>\n",
       "    <tr>\n",
       "      <th>5593</th>\n",
       "      <td>Lighthouse Lab Services</td>\n",
       "      <td>Python/R/machine learning/Excel/VBA/C++</td>\n",
       "      <td>Master</td>\n",
       "      <td>3.0</td>\n",
       "      <td>Lyon</td>\n",
       "      <td>Lead data scientist</td>\n",
       "    </tr>\n",
       "    <tr>\n",
       "      <th>5712</th>\n",
       "      <td>Ball Aerospace</td>\n",
       "      <td>Hadoop/Hive/Vertica/Tableau</td>\n",
       "      <td>Bachelor</td>\n",
       "      <td>3.0</td>\n",
       "      <td>Paris</td>\n",
       "      <td>Lead data scientist</td>\n",
       "    </tr>\n",
       "    <tr>\n",
       "      <th>6024</th>\n",
       "      <td>Leidos</td>\n",
       "      <td>Linux/Python/Hadoop/Perl/Ruby</td>\n",
       "      <td>Master</td>\n",
       "      <td>1.5</td>\n",
       "      <td>Lyon</td>\n",
       "      <td>Lead data scientist</td>\n",
       "    </tr>\n",
       "    <tr>\n",
       "      <th>6625</th>\n",
       "      <td>Ball Aerospace</td>\n",
       "      <td>Hadoop/Hive/Vertica/Tableau</td>\n",
       "      <td>No diploma</td>\n",
       "      <td>0.0</td>\n",
       "      <td>Paris</td>\n",
       "      <td>Data scientist</td>\n",
       "    </tr>\n",
       "    <tr>\n",
       "      <th>7091</th>\n",
       "      <td>KPMG</td>\n",
       "      <td>SAS/Teradata/SQL/R/Python/Machine learning/Ang...</td>\n",
       "      <td>Master</td>\n",
       "      <td>0.0</td>\n",
       "      <td>Marseille</td>\n",
       "      <td>Lead data scientist</td>\n",
       "    </tr>\n",
       "    <tr>\n",
       "      <th>7228</th>\n",
       "      <td>Environmental Defense Fund</td>\n",
       "      <td>Map-Reduce/HDFS/PIG/HBASE/Python/Cassandra</td>\n",
       "      <td>Master</td>\n",
       "      <td>2.5</td>\n",
       "      <td>Bordeaux</td>\n",
       "      <td>Lead data scientist</td>\n",
       "    </tr>\n",
       "    <tr>\n",
       "      <th>7330</th>\n",
       "      <td>Turner</td>\n",
       "      <td>Excel/Python/Matlab/R/machine learning/anglais</td>\n",
       "      <td>Phd</td>\n",
       "      <td>0.5</td>\n",
       "      <td>Lyon</td>\n",
       "      <td>Data scientist</td>\n",
       "    </tr>\n",
       "    <tr>\n",
       "      <th>9087</th>\n",
       "      <td>Klein Hersh International</td>\n",
       "      <td>Hadoop/Hive/Vertica/Tableau</td>\n",
       "      <td>No diploma</td>\n",
       "      <td>3.5</td>\n",
       "      <td>Paris</td>\n",
       "      <td>Lead data scientist</td>\n",
       "    </tr>\n",
       "    <tr>\n",
       "      <th>9427</th>\n",
       "      <td>McKinsey &amp; Company</td>\n",
       "      <td>Python/R/machine learning/Excel/VBA/C++</td>\n",
       "      <td>Master</td>\n",
       "      <td>1.0</td>\n",
       "      <td>Marseille</td>\n",
       "      <td>Lead data scientist</td>\n",
       "    </tr>\n",
       "    <tr>\n",
       "      <th>9490</th>\n",
       "      <td>Pearson</td>\n",
       "      <td>R/Python/Spark/Pycharm/SAS/SQL</td>\n",
       "      <td>Master</td>\n",
       "      <td>4.0</td>\n",
       "      <td>Marseille</td>\n",
       "      <td>Lead data scientist</td>\n",
       "    </tr>\n",
       "  </tbody>\n",
       "</table>\n",
       "</div>"
      ],
      "text/plain": [
       "                      Entreprise  \\\n",
       "346                       Jacobs   \n",
       "2058              Ball Aerospace   \n",
       "2670                  eHire, LLC   \n",
       "2899       Norfolk Southern Corp   \n",
       "3346       J.E. Ranta Associates   \n",
       "4248                        KPMG   \n",
       "4290         Pandora Media, Inc.   \n",
       "4292    Partners HealthCare(PHS)   \n",
       "5425           Ashton Lane Group   \n",
       "5593     Lighthouse Lab Services   \n",
       "5712              Ball Aerospace   \n",
       "6024                      Leidos   \n",
       "6625              Ball Aerospace   \n",
       "7091                        KPMG   \n",
       "7228  Environmental Defense Fund   \n",
       "7330                      Turner   \n",
       "9087   Klein Hersh International   \n",
       "9427          McKinsey & Company   \n",
       "9490                     Pearson   \n",
       "\n",
       "                                           Technologies     Diplome  \\\n",
       "346                              Python/Spark/GNU/Linux  No diploma   \n",
       "2058                                 VBA/Python/Excel/R      Master   \n",
       "2670                                Java/C/C++/R/Python      Master   \n",
       "2899     Python/Tensorflow/scikit-learn/Deep learning/R         Phd   \n",
       "3346                        Cassandra/MongoDB/NoSQL/AWS      Master   \n",
       "4248                       Python/Microsoft Azure/R/SQL         Phd   \n",
       "4290  SAS/Teradata/SQL/R/Python/Machine learning/Ang...         Phd   \n",
       "4292  SAS/Teradata/SQL/R/Python/Machine learning/Ang...      Master   \n",
       "5425                               Python/Pyspark/Spark  No diploma   \n",
       "5593            Python/R/machine learning/Excel/VBA/C++      Master   \n",
       "5712                        Hadoop/Hive/Vertica/Tableau    Bachelor   \n",
       "6024                      Linux/Python/Hadoop/Perl/Ruby      Master   \n",
       "6625                        Hadoop/Hive/Vertica/Tableau  No diploma   \n",
       "7091  SAS/Teradata/SQL/R/Python/Machine learning/Ang...      Master   \n",
       "7228         Map-Reduce/HDFS/PIG/HBASE/Python/Cassandra      Master   \n",
       "7330     Excel/Python/Matlab/R/machine learning/anglais         Phd   \n",
       "9087                        Hadoop/Hive/Vertica/Tableau  No diploma   \n",
       "9427            Python/R/machine learning/Excel/VBA/C++      Master   \n",
       "9490                     R/Python/Spark/Pycharm/SAS/SQL      Master   \n",
       "\n",
       "      Experience      Ville               Metier  \n",
       "346          2.5      Paris  Lead data scientist  \n",
       "2058        15.0       Lyon  Lead data scientist  \n",
       "2670         1.5   Toulouse  Lead data scientist  \n",
       "2899         0.0   Grenoble  Lead data scientist  \n",
       "3346         7.0     Rennes  Lead data scientist  \n",
       "4248         2.0       Lyon  Lead data scientist  \n",
       "4290         1.5   Toulouse  Lead data scientist  \n",
       "4292         8.0   Bordeaux  Lead data scientist  \n",
       "5425         5.0       Lyon  Lead data scientist  \n",
       "5593         3.0       Lyon  Lead data scientist  \n",
       "5712         3.0      Paris  Lead data scientist  \n",
       "6024         1.5       Lyon  Lead data scientist  \n",
       "6625         0.0      Paris       Data scientist  \n",
       "7091         0.0  Marseille  Lead data scientist  \n",
       "7228         2.5   Bordeaux  Lead data scientist  \n",
       "7330         0.5       Lyon       Data scientist  \n",
       "9087         3.5      Paris  Lead data scientist  \n",
       "9427         1.0  Marseille  Lead data scientist  \n",
       "9490         4.0  Marseille  Lead data scientist  "
      ]
     },
     "execution_count": 1236,
     "metadata": {},
     "output_type": "execute_result"
    }
   ],
   "source": [
    "predictions = LR.predict(set_to_predict_enc)\n",
    "\n",
    "# Décodage des valeurs de metier\n",
    "set_to_predict[\"Metier\"] = le.inverse_transform(predictions)\n",
    "set_to_predict"
   ]
  },
  {
   "cell_type": "markdown",
   "id": "d85b8cec",
   "metadata": {},
   "source": [
    "Ces résultats ne semblent pas logiques puisqu'un Lead Data Scientist c'est en général des profils plus expérimentés, mais on a prédit beaucoup de profils juniors pour ce metier là.\n",
    "\n",
    "Puisque ce modèle contient beaucoup d'erreurs, d'autres modèles de classification doivent être essayés."
   ]
  }
 ],
 "metadata": {
  "kernelspec": {
   "display_name": "Python 3 (ipykernel)",
   "language": "python",
   "name": "python3"
  },
  "language_info": {
   "codemirror_mode": {
    "name": "ipython",
    "version": 3
   },
   "file_extension": ".py",
   "mimetype": "text/x-python",
   "name": "python",
   "nbconvert_exporter": "python",
   "pygments_lexer": "ipython3",
   "version": "3.9.12"
  }
 },
 "nbformat": 4,
 "nbformat_minor": 5
}
